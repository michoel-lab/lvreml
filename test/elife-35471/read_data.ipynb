{
 "cells": [
  {
   "cell_type": "markdown",
   "metadata": {},
   "source": [
    "## Data source\n",
    "\n",
    "Download data from the paper \"Genetics of trans-regulatory variation in gene expression\" eLife 2018;7:e35471 doi: 10.7554/eLife.35471. We will use Additional files 1 (gene expression data), 2 (covariates) and 3 (genotypes)."
   ]
  },
  {
   "cell_type": "code",
   "execution_count": 4,
   "metadata": {},
   "outputs": [],
   "source": [
    "%matplotlib notebook\n",
    "import pandas as pd\n",
    "import numpy as np\n",
    "import matplotlib.pyplot as plt\n",
    "import seaborn as sns\n",
    "import os\n",
    "import zipfile\n",
    "\n",
    "# location of downloaded files\n",
    "path = '/Home/ii/tomm/Projects/data-public/bayes-net-sysgen/eQTL_BYxRM/'\n",
    "\n",
    "# relevant file names\n",
    "f_expr = 'SI_Data_01_expressionValues.txt'\n",
    "f_cov = 'elife-35471-data2-v2.xlsx'\n",
    "f_geno = 'SI_Data_03_genotypes.txt'\n",
    "f_hotspot = 'elife-35471-data8-v2.xlsx'"
   ]
  },
  {
   "cell_type": "markdown",
   "metadata": {},
   "source": [
    "Read expression data"
   ]
  },
  {
   "cell_type": "code",
   "execution_count": 2,
   "metadata": {},
   "outputs": [],
   "source": [
    "df_expr = pd.read_table(path + f_expr)\n",
    "\n",
    "# truncate row names to match genotype data\n",
    "df_expr.index = [x.split(\"-\")[0] for x in df_expr.index]"
   ]
  },
  {
   "cell_type": "markdown",
   "metadata": {},
   "source": [
    "Read covariate data"
   ]
  },
  {
   "cell_type": "code",
   "execution_count": 11,
   "metadata": {},
   "outputs": [],
   "source": [
    "df_cov = pd.read_excel(path + f_cov, index_col='segregant')\n",
    "# truncate row names to match genotype data\n",
    "df_cov.index = [x.split(\"-\")[0] for x in df_cov.index]"
   ]
  },
  {
   "cell_type": "markdown",
   "metadata": {},
   "source": [
    "Read genotype data"
   ]
  },
  {
   "cell_type": "code",
   "execution_count": 12,
   "metadata": {},
   "outputs": [],
   "source": [
    "df_geno = pd.read_table(path + f_geno)"
   ]
  },
  {
   "cell_type": "markdown",
   "metadata": {},
   "source": [
    "Read hotspot file"
   ]
  },
  {
   "cell_type": "code",
   "execution_count": 12,
   "metadata": {},
   "outputs": [],
   "source": [
    "df_hotspot = pd.read_excel(path + f_hotspot,usecols=\"A\")"
   ]
  },
  {
   "cell_type": "markdown",
   "metadata": {},
   "source": [
    "Export to csv"
   ]
  },
  {
   "cell_type": "code",
   "execution_count": 6,
   "metadata": {},
   "outputs": [],
   "source": [
    "df_expr.to_csv('../../data/BYxRM_1000/elife-35471-expression.csv')"
   ]
  },
  {
   "cell_type": "code",
   "execution_count": 7,
   "metadata": {},
   "outputs": [],
   "source": [
    "df_cov.to_csv('../../data/BYxRM_1000/elife-35471-covariates.csv')"
   ]
  },
  {
   "cell_type": "code",
   "execution_count": 18,
   "metadata": {},
   "outputs": [],
   "source": [
    "df_geno.to_csv('../../data/BYxRM_1000/elife-35471-genotypes.csv')"
   ]
  },
  {
   "cell_type": "code",
   "execution_count": 13,
   "metadata": {},
   "outputs": [],
   "source": [
    "df_hotspot.to_csv('../../data/BYxRM_1000/elife-35471-hotspots.csv')"
   ]
  },
  {
   "cell_type": "code",
   "execution_count": 13,
   "metadata": {},
   "outputs": [
    {
     "data": {
      "text/plain": [
       "(1012, 5720)"
      ]
     },
     "execution_count": 13,
     "metadata": {},
     "output_type": "execute_result"
    }
   ],
   "source": [
    "df_expr.shape"
   ]
  }
 ],
 "metadata": {
  "kernelspec": {
   "display_name": "Python 3",
   "language": "python",
   "name": "python3"
  },
  "language_info": {
   "codemirror_mode": {
    "name": "ipython",
    "version": 3
   },
   "file_extension": ".py",
   "mimetype": "text/x-python",
   "name": "python",
   "nbconvert_exporter": "python",
   "pygments_lexer": "ipython3",
   "version": "3.7.3"
  }
 },
 "nbformat": 4,
 "nbformat_minor": 2
}
